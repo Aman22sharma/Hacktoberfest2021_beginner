{
 "cells": [
  {
   "cell_type": "markdown",
   "id": "e100ab36",
   "metadata": {},
   "source": [
    "# Matrix Multiplication in Python\n",
    "\n",
    "### Without numpy or other modules\n",
    "\n",
    "Author : Jishnu S G<br>\n",
    "GitHub : https://github.com/jishnukoliyadan\n",
    "\n",
    "### <u>Sample</u>\n",
    "\n",
    "<pre>\n",
    "\n",
    "A = [[2 , 6 , 8],\n",
    "     [2 , 9 , 5],\n",
    "     [5 , 2 , 4]]\n",
    "B = [[1 , 0 , 5],\n",
    "     [3 , 2 , 4],\n",
    "     [4 , 0 , 8]]\n",
    "     \n",
    "<b>A * B = [[52 , 12 , 98],\n",
    "         [49 , 18 , 86],\n",
    "         [27 ,  4 , 65]]</b>\n",
    "\n",
    "C = [[6 , 8],\n",
    "     [4 , 7]]\n",
    "D = [[3 , 2 , 4 , 6 , 7],\n",
    "     [2 , 4 , 5 , 2 , 1]]\n",
    "\n",
    "<b>c* D = [[34 , 44 , 64 , 52 , 50],\n",
    "        [26 , 36 , 51 , 38 , 35]]</b> \n",
    "\n",
    "E = [[4 , 2],\n",
    "     [5 , 8]]\n",
    "F = [[5 , 8],\n",
    "     [4 , 2],\n",
    "     [7 , 9],\n",
    "     [8 , 6]]\n",
    "\n",
    "<b>E * F = Not Possible</b>\n",
    "</pre>"
   ]
  },
  {
   "cell_type": "code",
   "execution_count": 1,
   "id": "55d1d902",
   "metadata": {},
   "outputs": [
    {
     "name": "stdout",
     "output_type": "stream",
     "text": [
      "A * B = [[52, 12, 98], [49, 18, 86], [27, 4, 65]] \n",
      "\n",
      "C * D = [[34, 44, 64, 52, 50], [26, 36, 51, 38, 35]] \n",
      "\n",
      "E * F is Not Possible\n"
     ]
    }
   ],
   "source": [
    "def matrix_mul(A, B):\n",
    "    \n",
    "  lenA = len(A)\n",
    "  lenB = len(B)\n",
    "    \n",
    "  result = 'is Not Possible'\n",
    "\n",
    "  if lenA == lenB:\n",
    "    R_columns = len(B[0])\n",
    "    result = [ [0 for column in range(R_columns)] for row in range(lenA)]\n",
    "    \n",
    "    for i in range(len(A)):\n",
    "      for j in range(R_columns):\n",
    "        for k in range(len(B)):\n",
    "            \n",
    "          result[i][j] += A[i][k] * B[k][j]\n",
    "        \n",
    "  return result\n",
    "\n",
    "\n",
    "A = [[2, 6, 8], [2, 9, 5], [5, 2, 4]]\n",
    "B = [[1, 0, 5], [3, 2, 4], [4, 0, 8]]\n",
    "\n",
    "C = [[6, 8], [4, 7]]\n",
    "D = [[3, 2, 4, 6, 7], [2, 4, 5, 2, 1]]\n",
    "\n",
    "E = [[4, 2], [5, 8]]\n",
    "F = [[5, 8], [4, 2], [7, 9], [8, 6]]\n",
    "\n",
    "\n",
    "print('A * B =', matrix_mul(A, B), '\\n')\n",
    "\n",
    "print('C * D =', matrix_mul(C, D), '\\n')\n",
    "\n",
    "print('E * F', matrix_mul(E, F))"
   ]
  },
  {
   "cell_type": "markdown",
   "id": "8df0bad1",
   "metadata": {},
   "source": [
    "## Confirming answers using **Numpy** module"
   ]
  },
  {
   "cell_type": "code",
   "execution_count": 2,
   "id": "6ff699bc",
   "metadata": {},
   "outputs": [
    {
     "name": "stdout",
     "output_type": "stream",
     "text": [
      "A * B = [[52 12 98]\n",
      " [49 18 86]\n",
      " [27  4 65]] \n",
      "\n",
      "C * D = [[34 44 64 52 50]\n",
      " [26 36 51 38 35]] \n",
      "\n",
      "E * F =\n",
      "matmul: Input operand 1 has a mismatch in its core dimension 0, with gufunc signature (n?,k),(k,m?)->(n?,m?) (size 4 is different from 2)\n"
     ]
    }
   ],
   "source": [
    "import numpy as np\n",
    "\n",
    "\n",
    "A = [[2, 6, 8], [2, 9, 5], [5, 2, 4]]\n",
    "B = [[1, 0, 5], [3, 2, 4], [4, 0, 8]]\n",
    "\n",
    "C = [[6, 8], [4, 7]]\n",
    "D = [[3, 2, 4, 6, 7], [2, 4, 5, 2, 1]]\n",
    "\n",
    "E = [[4, 2], [5, 8]]\n",
    "F = [[5, 8], [4, 2], [7, 9], [8, 6]]\n",
    "\n",
    "\n",
    "try:\n",
    "    print('A * B =', np.matmul(A, B), '\\n')\n",
    "    print('C * D =', np.matmul(C, D), '\\n')\n",
    "    print('E * F =')\n",
    "    print(np.matmul(E, F))\n",
    "    \n",
    "except Exception as e:\n",
    "    print(e)"
   ]
  }
 ],
 "metadata": {
  "kernelspec": {
   "display_name": "Python 3",
   "language": "python",
   "name": "python3"
  },
  "language_info": {
   "codemirror_mode": {
    "name": "ipython",
    "version": 3
   },
   "file_extension": ".py",
   "mimetype": "text/x-python",
   "name": "python",
   "nbconvert_exporter": "python",
   "pygments_lexer": "ipython3",
   "version": "3.8.8"
  }
 },
 "nbformat": 4,
 "nbformat_minor": 5
}
