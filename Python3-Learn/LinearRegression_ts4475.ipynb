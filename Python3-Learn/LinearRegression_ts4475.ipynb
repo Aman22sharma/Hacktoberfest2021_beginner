{
  "nbformat": 4,
  "nbformat_minor": 0,
  "metadata": {
    "colab": {
      "name": "LinearRegression_ts4475.ipynb",
      "provenance": [],
      "collapsed_sections": []
    },
    "kernelspec": {
      "name": "python3",
      "display_name": "Python 3"
    },
    "language_info": {
      "name": "python"
    }
  },
  "cells": [
    {
      "cell_type": "markdown",
      "metadata": {
        "id": "MUEL6l3nWmBu"
      },
      "source": [
        "###AUTHOR  :**TIYASHA SAMANTA**\n",
        "###Python 3 Concept : **Linear Regression(Prediction)**\n",
        "###Github : https://github.com/ts4475"
      ]
    },
    {
      "cell_type": "code",
      "metadata": {
        "id": "rhE_fHjRMb5Y"
      },
      "source": [
        "import numpy as np\n",
        "import pandas as pd\n",
        "import matplotlib.pyplot as plt"
      ],
      "execution_count": 4,
      "outputs": []
    },
    {
      "cell_type": "code",
      "metadata": {
        "id": "2wDu-rwzMnLJ"
      },
      "source": [
        "data = pd.read_csv('/content/Student.csv')\n",
        "x = data['Physics']\n",
        "y = data['Percentage']"
      ],
      "execution_count": 6,
      "outputs": []
    },
    {
      "cell_type": "code",
      "metadata": {
        "colab": {
          "base_uri": "https://localhost:8080/"
        },
        "id": "B2FkMMZSMoqG",
        "outputId": "54c83372-fc33-4b13-d7e1-03af26ad3af2"
      },
      "source": [
        "print(data.head())"
      ],
      "execution_count": 7,
      "outputs": [
        {
          "output_type": "stream",
          "name": "stdout",
          "text": [
            "   Maths  Physics  Chemistry  Total Marks  Percentage\n",
            "0     50       27         22           99   33.000000\n",
            "1     72       82         77          231   77.000000\n",
            "2     85       18         13          116   38.666667\n",
            "3      8       42         37           87   29.000000\n",
            "4     32       25         20           77   25.666667\n"
          ]
        }
      ]
    },
    {
      "cell_type": "code",
      "metadata": {
        "colab": {
          "base_uri": "https://localhost:8080/",
          "height": 279
        },
        "id": "db1tmwEjMou2",
        "outputId": "12d91902-266f-45e1-ba09-6eb76023c905"
      },
      "source": [
        "plt.scatter(x,y,c=\"red\")\n",
        "plt.xlabel('Physics')\n",
        "plt.ylabel('Percentage')\n",
        "plt.show()"
      ],
      "execution_count": 8,
      "outputs": [
        {
          "output_type": "display_data",
          "data": {
            "image/png": "[encoded data removed]",
            "text/plain": [
              "<Figure size 432x288 with 1 Axes>"
            ]
          },
          "metadata": {
            "needs_background": "light"
          }
        }
      ]
    },
    {
      "cell_type": "markdown",
      "metadata": {
        "id": "nsbKoPVpVa8y"
      },
      "source": [
        "**CALCULATING SLOPE,INTERCEPT AND EQUATION**"
      ]
    },
    {
      "cell_type": "code",
      "metadata": {
        "id": "9pU9s44tQHzu"
      },
      "source": [
        "def linear_regression(x, y):     \n",
        "    N = len(x)\n",
        "    x_mean = x.mean()\n",
        "    y_mean = y.mean()\n",
        "    \n",
        "    #Calculatin Slope using Formula\n",
        "    B1_num = ((x - x_mean) * (y - y_mean)).sum() #summation of numerator\n",
        "    B1_den = ((x - x_mean)**2).sum() #summation of denominator\n",
        "    B1 = B1_num / B1_den #dividing num/den to get the slope\n",
        "\n",
        "    B0 = y_mean - (B1*x_mean) #intercept\n",
        "    \n",
        "    reg_line = 'y = {} + {}β'.format(B0, round(B1, 3)) #equation is obtained here\n",
        "    \n",
        "    return (B0, B1, reg_line)"
      ],
      "execution_count": 9,
      "outputs": []
    },
    {
      "cell_type": "markdown",
      "metadata": {
        "id": "m3MSwI_5VJLy"
      },
      "source": [
        "**HOW WELL THE REGRESSION LINE FITS**"
      ]
    },
    {
      "cell_type": "code",
      "metadata": {
        "id": "ZXcI9zm6Mo1U"
      },
      "source": [
        "def corr_coef(x, y):\n",
        "    N = len(x)\n",
        "    \n",
        "    num = (N * (x*y).sum()) - (x.sum() * y.sum())\n",
        "    den = np.sqrt((N * (x**2).sum() - x.sum()**2) * (N * (y**2).sum() - y.sum()**2))\n",
        "    R = num / den\n",
        "    return R"
      ],
      "execution_count": 10,
      "outputs": []
    },
    {
      "cell_type": "code",
      "metadata": {
        "colab": {
          "base_uri": "https://localhost:8080/"
        },
        "id": "gmpaQbDhMo5o",
        "outputId": "d80c51b4-54e4-4b36-d810-efa70783233f"
      },
      "source": [
        "B0, B1, reg_line = linear_regression(x, y)\n",
        "print('Regression Line: ', reg_line)\n",
        "R = corr_coef(x, y)\n",
        "print('Correlation Coef.: ', R)\n",
        "print('\"Goodness of Fit\": ', R**2)\n"
      ],
      "execution_count": 11,
      "outputs": [
        {
          "output_type": "stream",
          "name": "stdout",
          "text": [
            "Regression Line:  y = 15.186870349027295 + 0.671β\n",
            "Correlation Coef.:  0.8756689257131653\n",
            "\"Goodness of Fit\":  0.7667960674596491\n"
          ]
        }
      ]
    },
    {
      "cell_type": "code",
      "metadata": {
        "colab": {
          "base_uri": "https://localhost:8080/",
          "height": 372
        },
        "id": "HNlQXWGAMo_C",
        "outputId": "2e1d9ae6-fc37-4249-8e49-711398e6bb9e"
      },
      "source": [
        "plt.figure(figsize=(12,5))\n",
        "plt.scatter(x, y, s=300, linewidths=1, edgecolor='black')\n",
        "text = '''X Mean: {} marks\n",
        "Y Mean: ${}\n",
        "R: {}\n",
        "R^2: {}\n",
        "y = {} + {}X'''.format(round(x.mean(), 2), \n",
        "                       round(y.mean(), 2), \n",
        "                       round(R, 4), \n",
        "                       round(R**2, 4),\n",
        "                       round(B0, 3),\n",
        "                       round(B1, 3))\n",
        "plt.text(x=9, y=65, s=text, fontsize=10, bbox={'facecolor': 'grey', 'alpha': 0.2, 'pad': 10})\n",
        "plt.title('How Physics marks affects Percentage')\n",
        "plt.xlabel('Physics', fontsize=15)\n",
        "plt.ylabel('Percentage', fontsize=15)\n",
        "plt.plot(x, B0 + B1*x, c = 'r', linewidth=5, alpha=.5, solid_capstyle='round')\n",
        "plt.scatter(x=x.mean(), y=y.mean(), marker='*', s=10**2.5, c='r') # average point"
      ],
      "execution_count": 12,
      "outputs": [
        {
          "output_type": "execute_result",
          "data": {
            "text/plain": [
              "<matplotlib.collections.PathCollection at 0x7fe639c41810>"
            ]
          },
          "metadata": {},
          "execution_count": 12
        },
        {
          "output_type": "display_data",
          "data": {
            "image/png": "[encoded data removed]",
            "text/plain": [
              "<Figure size 864x360 with 1 Axes>"
            ]
          },
          "metadata": {
            "needs_background": "light"
          }
        }
      ]
    },
    {
      "cell_type": "code",
      "metadata": {
        "colab": {
          "base_uri": "https://localhost:8080/",
          "height": 112
        },
        "id": "3JrQdrU5a1JQ",
        "outputId": "f030912e-09c0-417e-b814-357776de6c54"
      },
      "source": [
        "x=data.iloc[:,1:2]\n",
        "x.head(2)\n"
      ],
      "execution_count": 13,
      "outputs": [
        {
          "output_type": "execute_result",
          "data": {
            "text/html": [
              "<div>\n",
              "<style scoped>\n",
              "    .dataframe tbody tr th:only-of-type {\n",
              "        vertical-align: middle;\n",
              "    }\n",
              "\n",
              "    .dataframe tbody tr th {\n",
              "        vertical-align: top;\n",
              "    }\n",
              "\n",
              "    .dataframe thead th {\n",
              "        text-align: right;\n",
              "    }\n",
              "</style>\n",
              "<table border=\"1\" class=\"dataframe\">\n",
              "  <thead>\n",
              "    <tr style=\"text-align: right;\">\n",
              "      <th></th>\n",
              "      <th>Physics</th>\n",
              "    </tr>\n",
              "  </thead>\n",
              "  <tbody>\n",
              "    <tr>\n",
              "      <th>0</th>\n",
              "      <td>27</td>\n",
              "    </tr>\n",
              "    <tr>\n",
              "      <th>1</th>\n",
              "      <td>82</td>\n",
              "    </tr>\n",
              "  </tbody>\n",
              "</table>\n",
              "</div>"
            ],
            "text/plain": [
              "   Physics\n",
              "0       27\n",
              "1       82"
            ]
          },
          "metadata": {},
          "execution_count": 13
        }
      ]
    },
    {
      "cell_type": "code",
      "metadata": {
        "colab": {
          "base_uri": "https://localhost:8080/",
          "height": 112
        },
        "id": "-ICCAjUnbbL2",
        "outputId": "8469b1b5-09b4-4b53-d4fa-e0c0f8cdfdc9"
      },
      "source": [
        "y=data.iloc[:,4:5]\n",
        "y.head(2)"
      ],
      "execution_count": 14,
      "outputs": [
        {
          "output_type": "execute_result",
          "data": {
            "text/html": [
              "<div>\n",
              "<style scoped>\n",
              "    .dataframe tbody tr th:only-of-type {\n",
              "        vertical-align: middle;\n",
              "    }\n",
              "\n",
              "    .dataframe tbody tr th {\n",
              "        vertical-align: top;\n",
              "    }\n",
              "\n",
              "    .dataframe thead th {\n",
              "        text-align: right;\n",
              "    }\n",
              "</style>\n",
              "<table border=\"1\" class=\"dataframe\">\n",
              "  <thead>\n",
              "    <tr style=\"text-align: right;\">\n",
              "      <th></th>\n",
              "      <th>Percentage</th>\n",
              "    </tr>\n",
              "  </thead>\n",
              "  <tbody>\n",
              "    <tr>\n",
              "      <th>0</th>\n",
              "      <td>33.0</td>\n",
              "    </tr>\n",
              "    <tr>\n",
              "      <th>1</th>\n",
              "      <td>77.0</td>\n",
              "    </tr>\n",
              "  </tbody>\n",
              "</table>\n",
              "</div>"
            ],
            "text/plain": [
              "   Percentage\n",
              "0        33.0\n",
              "1        77.0"
            ]
          },
          "metadata": {},
          "execution_count": 14
        }
      ]
    },
    {
      "cell_type": "code",
      "metadata": {
        "colab": {
          "base_uri": "https://localhost:8080/",
          "height": 279
        },
        "id": "a4gUOWv5a1Ok",
        "outputId": "080dea68-40f6-4996-a70e-0f272e52b46d"
      },
      "source": [
        "plt.scatter(x,y,c=\"red\")\n",
        "plt.xlabel('Physics')\n",
        "plt.ylabel('Percentage')\n",
        "plt.show()"
      ],
      "execution_count": 15,
      "outputs": [
        {
          "output_type": "display_data",
          "data": {
            "image/png": "[encoded data removed]",
            "text/plain": [
              "<Figure size 432x288 with 1 Axes>"
            ]
          },
          "metadata": {
            "needs_background": "light"
          }
        }
      ]
    },
    {
      "cell_type": "code",
      "metadata": {
        "colab": {
          "base_uri": "https://localhost:8080/"
        },
        "id": "phT20jLwa1TA",
        "outputId": "e314028d-175c-48e7-a147-ea614bc3934e"
      },
      "source": [
        "from sklearn.linear_model import LinearRegression\n",
        "lin_reg=LinearRegression()\n",
        "lin_reg.fit(x,y)"
      ],
      "execution_count": 16,
      "outputs": [
        {
          "output_type": "execute_result",
          "data": {
            "text/plain": [
              "LinearRegression(copy_X=True, fit_intercept=True, n_jobs=None, normalize=False)"
            ]
          },
          "metadata": {},
          "execution_count": 16
        }
      ]
    },
    {
      "cell_type": "code",
      "metadata": {
        "colab": {
          "base_uri": "https://localhost:8080/",
          "height": 295
        },
        "id": "Gbv81JPva1V4",
        "outputId": "5c7a2a7d-3140-4812-d003-3fa8bb7e333c"
      },
      "source": [
        "plt.scatter(x,y,c=\"red\")\n",
        "plt.plot(x,lin_reg.predict(x),color='green')\n",
        "plt.title(\"Regression Model\")\n",
        "plt.xlabel('Physics')\n",
        "plt.ylabel('Percentage')\n",
        "plt.show()"
      ],
      "execution_count": 17,
      "outputs": [
        {
          "output_type": "display_data",
          "data": {
            "image/png": "[encoded data removed]",
            "text/plain": [
              "<Figure size 432x288 with 1 Axes>"
            ]
          },
          "metadata": {
            "needs_background": "light"
          }
        }
      ]
    },
    {
      "cell_type": "code",
      "metadata": {
        "colab": {
          "base_uri": "https://localhost:8080/"
        },
        "id": "HvdIBK1Oa1Y0",
        "outputId": "cabcdcb7-9dba-4181-a391-2d005a663220"
      },
      "source": [
        "ypredict=lin_reg.predict(np.array([[70]]))\n",
        "ypredict"
      ],
      "execution_count": 18,
      "outputs": [
        {
          "output_type": "execute_result",
          "data": {
            "text/plain": [
              "array([[62.17496368]])"
            ]
          },
          "metadata": {},
          "execution_count": 18
        }
      ]
    },
    {
      "cell_type": "code",
      "metadata": {
        "colab": {
          "base_uri": "https://localhost:8080/"
        },
        "id": "4IuKI74pa1bX",
        "outputId": "82aa879d-db36-480e-cfa4-1eec65a17343"
      },
      "source": [
        "lin_reg.coef_\n"
      ],
      "execution_count": 19,
      "outputs": [
        {
          "output_type": "execute_result",
          "data": {
            "text/plain": [
              "array([[0.67125848]])"
            ]
          },
          "metadata": {},
          "execution_count": 19
        }
      ]
    },
    {
      "cell_type": "code",
      "metadata": {
        "colab": {
          "base_uri": "https://localhost:8080/"
        },
        "id": "HOk1LVMKcM9f",
        "outputId": "425b82aa-ce93-4632-e56f-1263c938940e"
      },
      "source": [
        "lin_reg.intercept_"
      ],
      "execution_count": 20,
      "outputs": [
        {
          "output_type": "execute_result",
          "data": {
            "text/plain": [
              "array([15.18687035])"
            ]
          },
          "metadata": {},
          "execution_count": 20
        }
      ]
    },
    {
      "cell_type": "code",
      "metadata": {
        "colab": {
          "base_uri": "https://localhost:8080/"
        },
        "id": "xUGkVIgAaTcD",
        "outputId": "bb373216-03ab-4925-f2a4-1819854380e7"
      },
      "source": [
        "ypredict=lin_reg.predict(x)\n",
        "ypredict"
      ],
      "execution_count": 21,
      "outputs": [
        {
          "output_type": "execute_result",
          "data": {
            "text/plain": [
              "array([[33.3108492 ],\n",
              "       [70.23006539],\n",
              "       [27.26952292],\n",
              "       [43.37972635],\n",
              "       [31.96833225],\n",
              "       [64.18873911],\n",
              "       [48.74979416],\n",
              "       [62.17496368],\n",
              "       [77.61390863],\n",
              "       [54.11986196],\n",
              "       [39.35217549],\n",
              "       [29.95455682],\n",
              "       [63.51748063],\n",
              "       [23.91323054],\n",
              "       [54.79112044],\n",
              "       [58.8186713 ],\n",
              "       [73.58635777],\n",
              "       [21.89945511],\n",
              "       [60.16118825]])"
            ]
          },
          "metadata": {},
          "execution_count": 21
        }
      ]
    },
    {
      "cell_type": "code",
      "metadata": {
        "colab": {
          "base_uri": "https://localhost:8080/"
        },
        "id": "dyPfebnZaThA",
        "outputId": "9bcc7919-7d34-4abf-f464-8133683a780a"
      },
      "source": [
        "from sklearn.metrics import mean_squared_error,r2_score,explained_variance_score\n",
        "print (\"Coefficient of determination :\",r2_score(y,ypredict))\n",
        "print (\"MSE: \",mean_squared_error(y,ypredict))\n",
        "print(\"RMSE: \",np.sqrt(mean_squared_error(y,ypredict)))"
      ],
      "execution_count": 22,
      "outputs": [
        {
          "output_type": "stream",
          "name": "stdout",
          "text": [
            "Coefficient of determination : 0.7667960674596501\n",
            "MSE:  90.05447273064492\n",
            "RMSE:  9.489703511208605\n"
          ]
        }
      ]
    },
    {
      "cell_type": "code",
      "metadata": {
        "id": "coAxqASkZ0pM"
      },
      "source": [
        ""
      ],
      "execution_count": null,
      "outputs": []
    }
  ]
}